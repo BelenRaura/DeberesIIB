{
 "cells": [
  {
   "cell_type": "raw",
   "id": "28bccb2e-02fe-4786-81f2-dd3e18f759a9",
   "metadata": {
    "vscode": {
     "languageId": "raw"
    }
   },
   "source": [
    "---\n",
    "title: \"Tarea 12\"\n",
    "author: \"Maria Belen Raura\"\n",
    "lang: es\n",
    "format: \n",
    "  pdf:\n",
    "    toc: true\n",
    "    toc-title: \"Tabla de Contenidos\"  \n",
    "execute:\n",
    "  echo: true\n",
    "  error: false\n",
    "  warning: false\n",
    "jupyter: python3\n",
    "---"
   ]
  },
  {
   "cell_type": "markdown",
   "id": "16a92ed8-c5c9-4f07-8521-61f5ce6949df",
   "metadata": {},
   "source": [
    "\n",
    "# Conjunto de ejercicios\n",
    "\n",
    "Las siguiente funciones fueron utilizados en el siguiente informe, que son propiedad del docente.\n"
   ]
  },
  {
   "cell_type": "code",
   "execution_count": 2,
   "id": "757a5945-6974-4578-9cfe-a9823247ee2f",
   "metadata": {},
   "outputs": [],
   "source": [
    "\n",
    "from typing import Callable\n",
    "\n",
    "\n",
    "# ####################################################################\n",
    "def ODE_euler(\n",
    "    *,\n",
    "    a: float,\n",
    "    b: float,\n",
    "    f: Callable[[float, float], float],\n",
    "    y_t0: float,\n",
    "    N: int,\n",
    ") -> tuple[list[float], list[float], float]:\n",
    "    \"\"\"Solves (numerically) an ODE of the form\n",
    "        dy/dt = f(t, y)\n",
    "            y(t_0) = y_t0, a <= t_0 <= b\n",
    "    using the Euler method for the N+1 points in the time range [a, b].\n",
    "\n",
    "    It generates N+1 mesh points with:\n",
    "        t_i = a + i*h, h = (a - b) / N,\n",
    "    where h is the step size.\n",
    "\n",
    "\n",
    "    ## Parameters\n",
    "    ``a``: initial time\n",
    "    ``b``: final time\n",
    "    ``f``: function of two variables ``t`` and ``y``\n",
    "    ``y_t0``: initial condition\n",
    "    ``N``: number of mesh points\n",
    "\n",
    "    ## Return\n",
    "    ``ys``: a list of the N+1 approximated values of y\n",
    "    ``ts``: a list of the N+1 mesh points\n",
    "    ``h``: the step size h\n",
    "\n",
    "    \"\"\"\n",
    "    h = (b - a) / N\n",
    "    t = a\n",
    "    ts = [t]\n",
    "    ys = [y_t0]\n",
    "\n",
    "    for _ in range(N):\n",
    "        y = ys[-1]\n",
    "        y += h * f(t, y)\n",
    "        ys.append(y)\n",
    "\n",
    "        t += h\n",
    "        ts.append(t)\n",
    "    return ys, ts, h\n"
   ]
  },
  {
   "cell_type": "code",
   "execution_count": 3,
   "id": "22309489-4ce0-4c22-b40d-ec6cf42c02b6",
   "metadata": {},
   "outputs": [],
   "source": [
    "\n",
    "import math\n",
    "import numpy as np\n",
    "\n",
    "\n",
    "def ODE_euler_nth(\n",
    "    *,\n",
    "    a: float,\n",
    "    b: float,\n",
    "    f: Callable[[float, float], float],\n",
    "    f_derivatives: list[Callable[[float, float], float]],\n",
    "    y_t0: float,\n",
    "    N: int,\n",
    ") -> tuple[list[float], list[float], float]:\n",
    "    \"\"\"Solves (numerically) an ODE of the form\n",
    "        dy/dt = f(t, y)\n",
    "            y(t_0) = y_t0, a <= t_0 <= b\n",
    "    using the Taylor method with (m - 1)th derivatives for the N+1 points in the time range [a, b].\n",
    "\n",
    "    It generates N+1 mesh points with:\n",
    "        t_i = a + i*h, h = (a - b) / N,\n",
    "    where h is the step size.\n",
    "\n",
    "\n",
    "    ## Parameters\n",
    "    ``a``: initial time\n",
    "    ``b``: final time\n",
    "    ``f``: function of two variables ``t`` and ``y``\n",
    "    ``f_derivatives``: list of (m - 1)th derivatives of f\n",
    "    ``y_t0``: initial condition\n",
    "    ``N``: number of mesh points\n",
    "\n",
    "    ## Return\n",
    "    ``ys``: a list of the N+1 approximated values of y\n",
    "    ``ts``: a list of the N+1 mesh points\n",
    "    ``h``: the step size h\n",
    "\n",
    "    \"\"\"\n",
    "    h = (b - a) / N\n",
    "    t = a\n",
    "    ts = [t]\n",
    "    ys = [y_t0]\n",
    "\n",
    "    for _ in range(N):\n",
    "        y = ys[-1]\n",
    "        T = f(t, y)\n",
    "        ders = [\n",
    "            h / math.factorial(m + 2) * mth_derivative(t, y)\n",
    "            for m, mth_derivative in enumerate(f_derivatives)\n",
    "        ]\n",
    "        T += sum(ders)\n",
    "        y += h * T\n",
    "        ys.append(y)\n",
    "\n",
    "        t += h\n",
    "        ts.append(t)\n",
    "    return ys, ts, h\n"
   ]
  },
  {
   "cell_type": "code",
   "execution_count": 4,
   "id": "532d1615-c7a2-43ec-a158-8f1d342354f8",
   "metadata": {},
   "outputs": [],
   "source": [
    "\n",
    "import matplotlib.pyplot as plt\n",
    "\n",
    "def graficadora(ts, ys):\n",
    "    plt.plot(ts, ys, marker = \"o\", linestyle = \"-\", label = \"y'\")\n",
    "    plt.xlabel(\"t\")\n",
    "    plt.ylabel(\"y\")\n",
    "    plt.title(\"Solución de la EDO\")\n",
    "    plt.legend()\n",
    "    plt.show()\n"
   ]
  },
  {
   "cell_type": "markdown",
   "id": "6ec15ed4-ffe8-412d-84df-84cc75158e05",
   "metadata": {},
   "source": [
    "\n",
    "## Ejercicio 3\n",
    "\n",
    "Utilice el método de Euler para aproximar las soluciones para cada uno de los siguientes problemas de valor inicial. \n"
   ]
  },
  {
   "cell_type": "markdown",
   "id": "6e670bcb",
   "metadata": {},
   "source": [
    "\n",
    "### Literal a)\n",
    "\n",
    "$y' = \\frac{y}{t} - (\\frac{y}{t})^2$, $1 \\le t \\le 2$, $y(1) = 1$, con $h = 0.1$.\n"
   ]
  },
  {
   "cell_type": "code",
   "execution_count": null,
   "id": "7a54b8f5-4415-4b33-9225-7e6b6909aead",
   "metadata": {},
   "outputs": [
    {
     "name": "stdout",
     "output_type": "stream",
     "text": [
      "El valor de h es: 0.1\n"
     ]
    },
    {
     "data": {
      "image/png": "[encoded data removed]",
      "text/plain": [
       "<Figure size 640x480 with 1 Axes>"
      ]
     },
     "metadata": {},
     "output_type": "display_data"
    }
   ],
   "source": [
    "\n",
    "y_der = lambda t, y: y/t - (y/t)**2\n",
    "y_init = 1\n",
    "\n",
    "ys2a, ts2a, h = ODE_euler(a = 1, b = 2, f = y_der, y_t0 = y_init, N = 10)\n",
    "\n",
    "print(f\"El valor de h es: {h}\")\n",
    "graficadora(ts2a, ys2a)\n"
   ]
  },
  {
   "cell_type": "markdown",
   "id": "8f4bb364",
   "metadata": {},
   "source": [
    "\n",
    "### Literal b)\n",
    "\n",
    "$y' = 1 + \\frac{y}{t} + (\\frac{y}{t})^2$, $1 \\le t \\le 3$, $y(1) = 0$, con $h = 0.2$.\n"
   ]
  },
  {
   "cell_type": "code",
   "execution_count": null,
   "id": "b661fb54-1df6-488a-b006-2b43cfeb4a7f",
   "metadata": {},
   "outputs": [
    {
     "name": "stdout",
     "output_type": "stream",
     "text": [
      "El valor de h es: 0.2\n"
     ]
    },
    {
     "data": {
      "image/png": "[encoded data removed]",
      "text/plain": [
       "<Figure size 640x480 with 1 Axes>"
      ]
     },
     "metadata": {},
     "output_type": "display_data"
    }
   ],
   "source": [
    "\n",
    "y_der = lambda t, y: 1 + y/t + (y/t)**2\n",
    "y_init = 0\n",
    "\n",
    "ys2b, ts2b, h = ODE_euler(a = 1, b = 3, f = y_der, y_t0 = y_init, N = 10)\n",
    "\n",
    "print(f\"El valor de h es: {h}\")\n",
    "graficadora(ts2b, ys2b)\n"
   ]
  },
  {
   "cell_type": "markdown",
   "id": "b5f0639d",
   "metadata": {},
   "source": [
    "\n",
    "### Literal c)\n",
    "\n",
    "$y' = -(y + 1)(y + 3)$, $0 \\le t \\le 2$, $y(0) = -2$, con $h = 0.2$.\n"
   ]
  },
  {
   "cell_type": "code",
   "execution_count": null,
   "id": "d7a20524-fa1b-46f2-971f-14355a03deef",
   "metadata": {},
   "outputs": [
    {
     "name": "stdout",
     "output_type": "stream",
     "text": [
      "El valor de h es: 0.2\n"
     ]
    },
    {
     "data": {
      "image/png": "[encoded data removed]",
      "text/plain": [
       "<Figure size 640x480 with 1 Axes>"
      ]
     },
     "metadata": {},
     "output_type": "display_data"
    }
   ],
   "source": [
    "\n",
    "y_der = lambda t, y: -(y + 1)*(y + 3)\n",
    "y_init = -2\n",
    "\n",
    "ys2c, ts2c, h = ODE_euler(a = 0, b = 2, f = y_der, y_t0 = y_init, N = 10)\n",
    "\n",
    "print(f\"El valor de h es: {h}\")\n",
    "graficadora(ts2c, ys2c)\n"
   ]
  },
  {
   "cell_type": "markdown",
   "id": "501bc138",
   "metadata": {},
   "source": [
    "\n",
    "### Literal d)\n",
    "\n",
    "$y' = -5y + 5t^2 + 2t$, $0 \\le t \\le 1$, $y(0) = \\frac{1}{3}$, con $h = 0.1$.\n"
   ]
  },
  {
   "cell_type": "code",
   "execution_count": null,
   "id": "d96ad7c0-80a8-48c0-ba48-b988cf9c6279",
   "metadata": {},
   "outputs": [
    {
     "name": "stdout",
     "output_type": "stream",
     "text": [
      "El valor de h es: 0.1\n"
     ]
    },
    {
     "data": {
      "image/png": "[encoded data removed]",
      "text/plain": [
       "<Figure size 640x480 with 1 Axes>"
      ]
     },
     "metadata": {},
     "output_type": "display_data"
    }
   ],
   "source": [
    "\n",
    "y_der = lambda t, y: -5*y + 5*t**2 + 2*t\n",
    "y_init = 1/3\n",
    "\n",
    "ys2d, ts2d, h = ODE_euler(a = 0, b = 1, f = y_der, y_t0 = y_init, N = 10)\n",
    "\n",
    "print(f\"El valor de h es: {h}\")\n",
    "graficadora(ts2d, ys2d)\n"
   ]
  },
  {
   "cell_type": "markdown",
   "id": "3cd3e090-750b-4c22-8c60-7b63bf9af235",
   "metadata": {},
   "source": [
    "\n",
    "## Ejercicio 4\n",
    "\n",
    "Aquí se dan las soluciones reales para los problemas de valor inicial en el ejercicio 3. Calcule el error real en las \n",
    "aproximaciones del ejercicio 3. \n"
   ]
  },
  {
   "cell_type": "markdown",
   "id": "f7030626",
   "metadata": {},
   "source": [
    "\n",
    "### Literal a)\n",
    "\n",
    "$y(t) = \\frac{t}{1 + \\ln{t}}$\n"
   ]
  },
  {
   "cell_type": "code",
   "execution_count": null,
   "id": "ed914c7d",
   "metadata": {},
   "outputs": [
    {
     "name": "stdout",
     "output_type": "stream",
     "text": [
      "El error real es: 0.4648864321966765\n"
     ]
    }
   ],
   "source": [
    "\n",
    "def y1(t):\n",
    "    return t/(1 + math.log(t))\n",
    "\n",
    "errorReal = np.mean([abs(y(t) - y_aprox) / abs(y(t)) for y_aprox, t in zip(ys2a, ts2a)])\n",
    "print(f\"El error real es: {errorReal}\")\n"
   ]
  },
  {
   "cell_type": "markdown",
   "id": "ec9edf07",
   "metadata": {},
   "source": [
    "\n",
    "### Literal b)\n",
    "\n",
    "$y(t) = t \\tan{\\ln{t}}$\n"
   ]
  },
  {
   "cell_type": "code",
   "execution_count": null,
   "id": "ef4c51a3",
   "metadata": {},
   "outputs": [
    {
     "name": "stdout",
     "output_type": "stream",
     "text": [
      "El error real es: 0.6770354966215661\n"
     ]
    }
   ],
   "source": [
    "\n",
    "def y2(t):\n",
    "    return t*math.tan(math.log(t))\n",
    "\n",
    "errorReal = np.mean([abs(y(t) - y_aprox) / abs(y(t)) for y_aprox, t in zip(ys2b, ts2b)])\n",
    "print(f\"El error real es: {errorReal}\")\n",
    "\n"
   ]
  },
  {
   "cell_type": "markdown",
   "id": "005b74b6",
   "metadata": {},
   "source": [
    "\n",
    "### Literal c)\n",
    "\n",
    "$y(t) = - 3 + \\frac{2}{1 + e^{-2t}}$\n"
   ]
  },
  {
   "cell_type": "code",
   "execution_count": null,
   "id": "5d53c80e",
   "metadata": {},
   "outputs": [
    {
     "name": "stdout",
     "output_type": "stream",
     "text": [
      "El error real es: 4.114105415722753\n"
     ]
    }
   ],
   "source": [
    "\n",
    "def y3(t):\n",
    "    return - 3 + 2/(1 + math.exp(-2*t))\n",
    "\n",
    "errorReal = np.mean([abs(y(t) - y_aprox) / abs(y(t)) for y_aprox, t in zip(ys2c, ts2c)])\n",
    "print(f\"El error real es: {errorReal}\")\n"
   ]
  },
  {
   "cell_type": "markdown",
   "id": "e07f890d",
   "metadata": {},
   "source": [
    "\n",
    "### Literal d)\n",
    "\n",
    "$y(t) = t^2 + \\frac{1}{3} e^{-5t}$\n"
   ]
  },
  {
   "cell_type": "code",
   "execution_count": null,
   "id": "3371184f",
   "metadata": {},
   "outputs": [
    {
     "name": "stdout",
     "output_type": "stream",
     "text": [
      "El error real es: 0.1290954106813849\n"
     ]
    }
   ],
   "source": [
    "\n",
    "def y4(t):\n",
    "    return t**2 + (1/3)*math.exp(-5*t)\n",
    "\n",
    "errorReal = np.mean([abs(y(t) - y_aprox) / abs(y(t)) for y_aprox, t in zip(ys2d, ts2d)])\n",
    "print(f\"El error real es: {errorReal}\")\n"
   ]
  },
  {
   "cell_type": "markdown",
   "id": "633cdcbb-80b3-45f9-81e1-aaad79b13886",
   "metadata": {},
   "source": [
    "\n",
    "## Ejercicio 5\n",
    "\n",
    "Utilice los resultados del ejercicio 3 y la interpolación lineal para aproximar los siguientes valores de 𝑦(𝑡). Compare \n",
    "las aproximaciones asignadas para los valores reales obtenidos mediante las funciones determinadas en el ejercicio \n",
    "4.\n"
   ]
  },
  {
   "cell_type": "markdown",
   "id": "7cae6e98",
   "metadata": {},
   "source": [
    "\n",
    "### Literal a)\n",
    "\n",
    "$y(0.25)$ y $y(0.93)$.\n"
   ]
  },
  {
   "cell_type": "code",
   "execution_count": null,
   "id": "636f8d7d",
   "metadata": {},
   "outputs": [
    {
     "name": "stdout",
     "output_type": "stream",
     "text": [
      "-0.6471748623905226\n",
      "1.0027718477462106\n"
     ]
    }
   ],
   "source": [
    "\n",
    "res = y1(0.25)\n",
    "print(res)\n",
    "\n",
    "res = y1(0.93)\n",
    "print(res)\n"
   ]
  },
  {
   "cell_type": "markdown",
   "id": "3e145561",
   "metadata": {},
   "source": [
    "\n",
    "### Literal b)\n",
    "\n",
    "$y(1.25)$ y $y(1.93)$.\n"
   ]
  },
  {
   "cell_type": "code",
   "execution_count": null,
   "id": "bfbddf1d",
   "metadata": {},
   "outputs": [
    {
     "name": "stdout",
     "output_type": "stream",
     "text": [
      "0.2836531261952289\n",
      "1.4902277738186658\n"
     ]
    }
   ],
   "source": [
    "\n",
    "res = y2(1.25)\n",
    "print(res)\n",
    "\n",
    "res = y2(1.93)\n",
    "print(res)\n"
   ]
  },
  {
   "cell_type": "markdown",
   "id": "608e2351",
   "metadata": {},
   "source": [
    "\n",
    "### Literal c)\n",
    "\n",
    "$y(2.10)$ y $y(2.75)$.\n"
   ]
  },
  {
   "cell_type": "code",
   "execution_count": null,
   "id": "a4743f3b",
   "metadata": {},
   "outputs": [
    {
     "name": "stdout",
     "output_type": "stream",
     "text": [
      "-1.0295480633865461\n",
      "-1.008140275431792\n"
     ]
    }
   ],
   "source": [
    "\n",
    "res = y3(2.1)\n",
    "print(res)\n",
    "\n",
    "res = y3(2.75)\n",
    "print(res)\n"
   ]
  },
  {
   "cell_type": "markdown",
   "id": "23e81531",
   "metadata": {},
   "source": [
    "\n",
    "### Literal d)\n",
    "\n",
    "$y(0.54)$ y $y(0.94)$.\n"
   ]
  },
  {
   "cell_type": "code",
   "execution_count": null,
   "id": "16119929",
   "metadata": {},
   "outputs": [
    {
     "name": "stdout",
     "output_type": "stream",
     "text": [
      "0.3140018375799166\n",
      "0.8866317590338986\n"
     ]
    }
   ],
   "source": [
    "\n",
    "res = y4(0.54)\n",
    "print(res)\n",
    "\n",
    "res = y4(0.94)\n",
    "print(res)\n"
   ]
  }
 ],
 "metadata": {
  "kernelspec": {
   "display_name": "Python 3",
   "language": "python",
   "name": "python3"
  },
  "language_info": {
   "codemirror_mode": {
    "name": "ipython",
    "version": 3
   },
   "file_extension": ".py",
   "mimetype": "text/x-python",
   "name": "python",
   "nbconvert_exporter": "python",
   "pygments_lexer": "ipython3",
   "version": "3.11.3"
  }
 },
 "nbformat": 4,
 "nbformat_minor": 5
}

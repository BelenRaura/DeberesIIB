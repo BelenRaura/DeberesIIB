{
 "cells": [
  {
   "cell_type": "raw",
   "id": "397c03cf-02be-4c69-957d-b28f3f937e46",
   "metadata": {
    "vscode": {
     "languageId": "raw"
    }
   },
   "source": [
    "---\n",
    "title: \"Tarea 9\"\n",
    "author: \"Belen Raura\"\n",
    "lang: es\n",
    "format: \n",
    "  pdf:\n",
    "    toc: true\n",
    "    toc-title: \"Tabla de Contenidos\"  \n",
    "execute:\n",
    "  echo: true\n",
    "  error: false\n",
    "  warning: false\n",
    "jupyter: python3\n",
    "---"
   ]
  },
  {
   "cell_type": "markdown",
   "id": "73a10cf3-509b-4f02-9f51-7fd56c433b36",
   "metadata": {},
   "source": [
    "\n",
    "# Numpy\n",
    "\n",
    "Esta librería tiene una función para resolver un sistema de ecuaciones mediante matrices.\n"
   ]
  },
  {
   "cell_type": "code",
   "execution_count": 2,
   "id": "df254713-d45c-4330-aa00-e1f2eec91cd1",
   "metadata": {},
   "outputs": [],
   "source": [
    "import numpy as np"
   ]
  },
  {
   "cell_type": "markdown",
   "id": "41361f5e-0d54-4d20-9434-394bd6760374",
   "metadata": {},
   "source": [
    "\n",
    "# Conjunto de ejercicios\n",
    "\n",
    "## Ejercicio 1\n",
    "\n",
    "Para cada uno de los siguientes sistemas lineales, obtenga, de ser posible, una solución con métodos gráficos. \n",
    "Explique los resultados desde un punto de vista geométrico.\n"
   ]
  },
  {
   "cell_type": "markdown",
   "id": "5069107a-ab70-451d-adf2-4a67c07389da",
   "metadata": {},
   "source": [
    "\n",
    "### Literal a)\n",
    "\n",
    "$$x_1 + 2x_2 = 0$$\n",
    "\n",
    "$$x_1 - x_2 = 0$$\n"
   ]
  },
  {
   "cell_type": "code",
   "execution_count": 3,
   "id": "43e8a6e0-fcb4-48ab-b3bd-5b88226dd4f1",
   "metadata": {},
   "outputs": [
    {
     "name": "stdout",
     "output_type": "stream",
     "text": [
      "[ 0. -0.]\n"
     ]
    }
   ],
   "source": [
    "\n",
    "A = [\n",
    "    [1, 2],\n",
    "    [1, -1]\n",
    "]\n",
    "\n",
    "b = [0, 0]\n",
    "\n",
    "x = np.linalg.solve(A, b)\n",
    "print(x)\n"
   ]
  },
  {
   "cell_type": "code",
   "execution_count": 10,
   "id": "73f36254",
   "metadata": {},
   "outputs": [
    {
     "name": "stdout",
     "output_type": "stream",
     "text": [
      "The autoreload extension is already loaded. To reload it, use:\n",
      "  %reload_ext autoreload\n",
      "[01-06 16:29:47][INFO] \n",
      "[[ 1  2  0]\n",
      " [ 0 -3  0]]\n"
     ]
    },
    {
     "data": {
      "text/plain": [
       "array([ 0., -0.])"
      ]
     },
     "execution_count": 10,
     "metadata": {},
     "output_type": "execute_result"
    }
   ],
   "source": [
    "%load_ext autoreload\n",
    "%autoreload 2\n",
    "from src import eliminacion_gaussiana\n",
    "\n",
    "Ab = [[1, 2,0], [1,-1,0]]\n",
    "\n",
    "eliminacion_gaussiana(Ab)"
   ]
  },
  {
   "cell_type": "markdown",
   "id": "1e22b969-4c47-4537-ab37-7e30696c6849",
   "metadata": {},
   "source": [
    "\n",
    "### Literal b)\n",
    "\n",
    "$$x_1 + 2x_2 = 3$$\n",
    "\n",
    "$$-2x_1 - 4x_2 = 6$$\n"
   ]
  },
  {
   "cell_type": "code",
   "execution_count": 4,
   "id": "b56c3c72-8837-485a-969e-a96e38dedb9c",
   "metadata": {},
   "outputs": [
    {
     "ename": "LinAlgError",
     "evalue": "Singular matrix",
     "output_type": "error",
     "traceback": [
      "\u001b[1;31m---------------------------------------------------------------------------\u001b[0m",
      "\u001b[1;31mLinAlgError\u001b[0m                               Traceback (most recent call last)",
      "Cell \u001b[1;32mIn[4], line 8\u001b[0m\n\u001b[0;32m      1\u001b[0m A \u001b[38;5;241m=\u001b[39m [\n\u001b[0;32m      2\u001b[0m     [\u001b[38;5;241m1\u001b[39m, \u001b[38;5;241m2\u001b[39m],\n\u001b[0;32m      3\u001b[0m     [\u001b[38;5;241m-\u001b[39m\u001b[38;5;241m2\u001b[39m, \u001b[38;5;241m-\u001b[39m\u001b[38;5;241m4\u001b[39m]\n\u001b[0;32m      4\u001b[0m ]\n\u001b[0;32m      6\u001b[0m b \u001b[38;5;241m=\u001b[39m [\u001b[38;5;241m3\u001b[39m, \u001b[38;5;241m6\u001b[39m]\n\u001b[1;32m----> 8\u001b[0m x \u001b[38;5;241m=\u001b[39m \u001b[43mnp\u001b[49m\u001b[38;5;241;43m.\u001b[39;49m\u001b[43mlinalg\u001b[49m\u001b[38;5;241;43m.\u001b[39;49m\u001b[43msolve\u001b[49m\u001b[43m(\u001b[49m\u001b[43mA\u001b[49m\u001b[43m,\u001b[49m\u001b[43m \u001b[49m\u001b[43mb\u001b[49m\u001b[43m)\u001b[49m\n\u001b[0;32m      9\u001b[0m \u001b[38;5;28mprint\u001b[39m(x)\n",
      "File \u001b[1;32mc:\\Users\\acer\\AppData\\Local\\Programs\\Python\\Python311\\Lib\\site-packages\\numpy\\linalg\\_linalg.py:410\u001b[0m, in \u001b[0;36msolve\u001b[1;34m(a, b)\u001b[0m\n\u001b[0;32m    407\u001b[0m signature \u001b[38;5;241m=\u001b[39m \u001b[38;5;124m'\u001b[39m\u001b[38;5;124mDD->D\u001b[39m\u001b[38;5;124m'\u001b[39m \u001b[38;5;28;01mif\u001b[39;00m isComplexType(t) \u001b[38;5;28;01melse\u001b[39;00m \u001b[38;5;124m'\u001b[39m\u001b[38;5;124mdd->d\u001b[39m\u001b[38;5;124m'\u001b[39m\n\u001b[0;32m    408\u001b[0m \u001b[38;5;28;01mwith\u001b[39;00m errstate(call\u001b[38;5;241m=\u001b[39m_raise_linalgerror_singular, invalid\u001b[38;5;241m=\u001b[39m\u001b[38;5;124m'\u001b[39m\u001b[38;5;124mcall\u001b[39m\u001b[38;5;124m'\u001b[39m,\n\u001b[0;32m    409\u001b[0m               over\u001b[38;5;241m=\u001b[39m\u001b[38;5;124m'\u001b[39m\u001b[38;5;124mignore\u001b[39m\u001b[38;5;124m'\u001b[39m, divide\u001b[38;5;241m=\u001b[39m\u001b[38;5;124m'\u001b[39m\u001b[38;5;124mignore\u001b[39m\u001b[38;5;124m'\u001b[39m, under\u001b[38;5;241m=\u001b[39m\u001b[38;5;124m'\u001b[39m\u001b[38;5;124mignore\u001b[39m\u001b[38;5;124m'\u001b[39m):\n\u001b[1;32m--> 410\u001b[0m     r \u001b[38;5;241m=\u001b[39m \u001b[43mgufunc\u001b[49m\u001b[43m(\u001b[49m\u001b[43ma\u001b[49m\u001b[43m,\u001b[49m\u001b[43m \u001b[49m\u001b[43mb\u001b[49m\u001b[43m,\u001b[49m\u001b[43m \u001b[49m\u001b[43msignature\u001b[49m\u001b[38;5;241;43m=\u001b[39;49m\u001b[43msignature\u001b[49m\u001b[43m)\u001b[49m\n\u001b[0;32m    412\u001b[0m \u001b[38;5;28;01mreturn\u001b[39;00m wrap(r\u001b[38;5;241m.\u001b[39mastype(result_t, copy\u001b[38;5;241m=\u001b[39m\u001b[38;5;28;01mFalse\u001b[39;00m))\n",
      "File \u001b[1;32mc:\\Users\\acer\\AppData\\Local\\Programs\\Python\\Python311\\Lib\\site-packages\\numpy\\linalg\\_linalg.py:104\u001b[0m, in \u001b[0;36m_raise_linalgerror_singular\u001b[1;34m(err, flag)\u001b[0m\n\u001b[0;32m    103\u001b[0m \u001b[38;5;28;01mdef\u001b[39;00m \u001b[38;5;21m_raise_linalgerror_singular\u001b[39m(err, flag):\n\u001b[1;32m--> 104\u001b[0m     \u001b[38;5;28;01mraise\u001b[39;00m LinAlgError(\u001b[38;5;124m\"\u001b[39m\u001b[38;5;124mSingular matrix\u001b[39m\u001b[38;5;124m\"\u001b[39m)\n",
      "\u001b[1;31mLinAlgError\u001b[0m: Singular matrix"
     ]
    }
   ],
   "source": [
    "\n",
    "A = [\n",
    "    [1, 2],\n",
    "    [-2, -4]\n",
    "]\n",
    "\n",
    "b = [3, 6]\n",
    "\n",
    "x = np.linalg.solve(A, b)\n",
    "print(x)\n"
   ]
  },
  {
   "cell_type": "markdown",
   "id": "d66603ae-7361-4d89-931e-e09321574a1d",
   "metadata": {},
   "source": [
    "Sin  solución.El error LinAlgError: Singular matrix indica que la matriz \n",
    "𝐴\n",
    "A no tiene inversa, lo que significa que no es posible resolver el sistema de ecuaciones lineales utilizando np.linalg.solve.\n"
   ]
  },
  {
   "cell_type": "code",
   "execution_count": 11,
   "id": "6d1d96a1",
   "metadata": {},
   "outputs": [
    {
     "name": "stdout",
     "output_type": "stream",
     "text": [
      "The autoreload extension is already loaded. To reload it, use:\n",
      "  %reload_ext autoreload\n",
      "[01-06 16:34:33][INFO] \n",
      "[[ 1  2  3]\n",
      " [ 0  0 12]]\n"
     ]
    },
    {
     "ename": "ValueError",
     "evalue": "No existe solución única.",
     "output_type": "error",
     "traceback": [
      "\u001b[1;31m---------------------------------------------------------------------------\u001b[0m",
      "\u001b[1;31mValueError\u001b[0m                                Traceback (most recent call last)",
      "Cell \u001b[1;32mIn[11], line 7\u001b[0m\n\u001b[0;32m      3\u001b[0m \u001b[38;5;28;01mfrom\u001b[39;00m \u001b[38;5;21;01msrc\u001b[39;00m \u001b[38;5;28;01mimport\u001b[39;00m eliminacion_gaussiana\n\u001b[0;32m      5\u001b[0m Ab \u001b[38;5;241m=\u001b[39m [[\u001b[38;5;241m1\u001b[39m, \u001b[38;5;241m2\u001b[39m,\u001b[38;5;241m3\u001b[39m], [\u001b[38;5;241m-\u001b[39m\u001b[38;5;241m2\u001b[39m,\u001b[38;5;241m-\u001b[39m\u001b[38;5;241m4\u001b[39m,\u001b[38;5;241m6\u001b[39m]]\n\u001b[1;32m----> 7\u001b[0m \u001b[43meliminacion_gaussiana\u001b[49m\u001b[43m(\u001b[49m\u001b[43mAb\u001b[49m\u001b[43m)\u001b[49m\n",
      "File \u001b[1;32mc:\\Users\\acer\\OneDrive - Escuela Politécnica Nacional\\4toSemestre\\Metodos\\Deberes\\IIB\\ELIMINACIONGAUS\\src\\linear_sist_methods.py:82\u001b[0m, in \u001b[0;36meliminacion_gaussiana\u001b[1;34m(A)\u001b[0m\n\u001b[0;32m     79\u001b[0m     logging\u001b[38;5;241m.\u001b[39minfo(\u001b[38;5;124mf\u001b[39m\u001b[38;5;124m\"\u001b[39m\u001b[38;5;130;01m\\n\u001b[39;00m\u001b[38;5;132;01m{\u001b[39;00mA\u001b[38;5;132;01m}\u001b[39;00m\u001b[38;5;124m\"\u001b[39m)\n\u001b[0;32m     81\u001b[0m \u001b[38;5;28;01mif\u001b[39;00m A[n \u001b[38;5;241m-\u001b[39m \u001b[38;5;241m1\u001b[39m, n \u001b[38;5;241m-\u001b[39m \u001b[38;5;241m1\u001b[39m] \u001b[38;5;241m==\u001b[39m \u001b[38;5;241m0\u001b[39m:\n\u001b[1;32m---> 82\u001b[0m     \u001b[38;5;28;01mraise\u001b[39;00m \u001b[38;5;167;01mValueError\u001b[39;00m(\u001b[38;5;124m\"\u001b[39m\u001b[38;5;124mNo existe solución única.\u001b[39m\u001b[38;5;124m\"\u001b[39m)\n\u001b[0;32m     84\u001b[0m     \u001b[38;5;28mprint\u001b[39m(\u001b[38;5;124mf\u001b[39m\u001b[38;5;124m\"\u001b[39m\u001b[38;5;130;01m\\n\u001b[39;00m\u001b[38;5;132;01m{\u001b[39;00mA\u001b[38;5;132;01m}\u001b[39;00m\u001b[38;5;124m\"\u001b[39m)\n\u001b[0;32m     85\u001b[0m \u001b[38;5;66;03m# --- Sustitución hacia atrás\u001b[39;00m\n",
      "\u001b[1;31mValueError\u001b[0m: No existe solución única."
     ]
    }
   ],
   "source": [
    "%load_ext autoreload\n",
    "%autoreload 2\n",
    "from src import eliminacion_gaussiana\n",
    "\n",
    "Ab = [[1, 2,3], [-2,-4,6]]\n",
    "\n",
    "eliminacion_gaussiana(Ab)"
   ]
  },
  {
   "cell_type": "markdown",
   "id": "61bbd602-2003-4b6b-976f-224561fd1697",
   "metadata": {},
   "source": [
    "\n",
    "### Literal c)\n",
    "\n",
    "$$2x_1 + x_2 = -1$$\n",
    "\n",
    "$$x_1 + x_2 = 2$$\n",
    "\n",
    "$$x_1 - 3x_2 = 5$$\n"
   ]
  },
  {
   "cell_type": "code",
   "execution_count": 7,
   "id": "8aae25b3-feb0-4468-bf47-6c1541190491",
   "metadata": {},
   "outputs": [
    {
     "name": "stdout",
     "output_type": "stream",
     "text": [
      "[ 0.83333333 -1.27272727]\n"
     ]
    }
   ],
   "source": [
    "\n",
    "import numpy as np\n",
    "\n",
    "A = np.array([\n",
    "    [2, 1],\n",
    "    [1, 1],\n",
    "    [1, -3]\n",
    "])\n",
    "b = np.array([-1, 2, 5])\n",
    "\n",
    "x, residuals, rank, s = np.linalg.lstsq(A, b, rcond=None)\n",
    "print(x)\n"
   ]
  },
  {
   "cell_type": "code",
   "execution_count": 12,
   "id": "d2a68ba0",
   "metadata": {},
   "outputs": [
    {
     "name": "stdout",
     "output_type": "stream",
     "text": [
      "The autoreload extension is already loaded. To reload it, use:\n",
      "  %reload_ext autoreload\n"
     ]
    },
    {
     "ename": "AssertionError",
     "evalue": "La matriz A debe ser de tamaño n-by-(n+1).",
     "output_type": "error",
     "traceback": [
      "\u001b[1;31m---------------------------------------------------------------------------\u001b[0m",
      "\u001b[1;31mAssertionError\u001b[0m                            Traceback (most recent call last)",
      "Cell \u001b[1;32mIn[12], line 7\u001b[0m\n\u001b[0;32m      3\u001b[0m \u001b[38;5;28;01mfrom\u001b[39;00m \u001b[38;5;21;01msrc\u001b[39;00m \u001b[38;5;28;01mimport\u001b[39;00m eliminacion_gaussiana\n\u001b[0;32m      5\u001b[0m Ab \u001b[38;5;241m=\u001b[39m [[\u001b[38;5;241m2\u001b[39m, \u001b[38;5;241m1\u001b[39m,\u001b[38;5;241m-\u001b[39m\u001b[38;5;241m1\u001b[39m], [\u001b[38;5;241m1\u001b[39m,\u001b[38;5;241m1\u001b[39m,\u001b[38;5;241m2\u001b[39m],[\u001b[38;5;241m1\u001b[39m,\u001b[38;5;241m-\u001b[39m\u001b[38;5;241m3\u001b[39m,\u001b[38;5;241m5\u001b[39m]]\n\u001b[1;32m----> 7\u001b[0m \u001b[43meliminacion_gaussiana\u001b[49m\u001b[43m(\u001b[49m\u001b[43mAb\u001b[49m\u001b[43m)\u001b[49m\n",
      "File \u001b[1;32mc:\\Users\\acer\\OneDrive - Escuela Politécnica Nacional\\4toSemestre\\Metodos\\Deberes\\IIB\\ELIMINACIONGAUS\\src\\linear_sist_methods.py:43\u001b[0m, in \u001b[0;36meliminacion_gaussiana\u001b[1;34m(A)\u001b[0m\n\u001b[0;32m     41\u001b[0m     logging\u001b[38;5;241m.\u001b[39mdebug(\u001b[38;5;124m\"\u001b[39m\u001b[38;5;124mConvirtiendo A a numpy array.\u001b[39m\u001b[38;5;124m\"\u001b[39m)\n\u001b[0;32m     42\u001b[0m     A \u001b[38;5;241m=\u001b[39m np\u001b[38;5;241m.\u001b[39marray(A)\n\u001b[1;32m---> 43\u001b[0m \u001b[38;5;28;01massert\u001b[39;00m A\u001b[38;5;241m.\u001b[39mshape[\u001b[38;5;241m0\u001b[39m] \u001b[38;5;241m==\u001b[39m A\u001b[38;5;241m.\u001b[39mshape[\u001b[38;5;241m1\u001b[39m] \u001b[38;5;241m-\u001b[39m \u001b[38;5;241m1\u001b[39m, \u001b[38;5;124m\"\u001b[39m\u001b[38;5;124mLa matriz A debe ser de tamaño n-by-(n+1).\u001b[39m\u001b[38;5;124m\"\u001b[39m\n\u001b[0;32m     44\u001b[0m n \u001b[38;5;241m=\u001b[39m A\u001b[38;5;241m.\u001b[39mshape[\u001b[38;5;241m0\u001b[39m]\n\u001b[0;32m     46\u001b[0m \u001b[38;5;28;01mfor\u001b[39;00m i \u001b[38;5;129;01min\u001b[39;00m \u001b[38;5;28mrange\u001b[39m(\u001b[38;5;241m0\u001b[39m, n \u001b[38;5;241m-\u001b[39m \u001b[38;5;241m1\u001b[39m):  \u001b[38;5;66;03m# loop por columna\u001b[39;00m\n\u001b[0;32m     47\u001b[0m \n\u001b[0;32m     48\u001b[0m     \u001b[38;5;66;03m# --- encontrar pivote\u001b[39;00m\n",
      "\u001b[1;31mAssertionError\u001b[0m: La matriz A debe ser de tamaño n-by-(n+1)."
     ]
    }
   ],
   "source": [
    "%load_ext autoreload\n",
    "%autoreload 2\n",
    "from src import eliminacion_gaussiana\n",
    "\n",
    "Ab = [[2, 1,-1], [1,1,2],[1,-3,5]]\n",
    "\n",
    "eliminacion_gaussiana(Ab)"
   ]
  },
  {
   "cell_type": "markdown",
   "id": "c1b93ef1-5f58-4159-ae41-f7042dbaf9ed",
   "metadata": {},
   "source": [
    "\n",
    "Para este caso, existen soluciones infinitas\n",
    "\n",
    "### Literal d)\n",
    "\n",
    "$$2x_1 + x_2 + x_3 = 1$$\n",
    "\n",
    "$$2x_1 + 4x_2 - x_3= -1$$\n"
   ]
  },
  {
   "cell_type": "code",
   "execution_count": 23,
   "id": "384f0769-7e4d-4434-a6b2-43d4402f7914",
   "metadata": {},
   "outputs": [
    {
     "ename": "LinAlgError",
     "evalue": "Last 2 dimensions of the array must be square",
     "output_type": "error",
     "traceback": [
      "\u001b[1;31m---------------------------------------------------------------------------\u001b[0m",
      "\u001b[1;31mLinAlgError\u001b[0m                               Traceback (most recent call last)",
      "Cell \u001b[1;32mIn[23], line 8\u001b[0m\n\u001b[0;32m      1\u001b[0m A \u001b[38;5;241m=\u001b[39m [\n\u001b[0;32m      2\u001b[0m     [\u001b[38;5;241m2\u001b[39m, \u001b[38;5;241m1\u001b[39m, \u001b[38;5;241m1\u001b[39m],\n\u001b[0;32m      3\u001b[0m     [\u001b[38;5;241m2\u001b[39m, \u001b[38;5;241m4\u001b[39m, \u001b[38;5;241m-\u001b[39m\u001b[38;5;241m1\u001b[39m]\n\u001b[0;32m      4\u001b[0m ]\n\u001b[0;32m      6\u001b[0m b \u001b[38;5;241m=\u001b[39m [\u001b[38;5;241m1\u001b[39m, \u001b[38;5;241m-\u001b[39m\u001b[38;5;241m1\u001b[39m]\n\u001b[1;32m----> 8\u001b[0m x \u001b[38;5;241m=\u001b[39m np\u001b[38;5;241m.\u001b[39mlinalg\u001b[38;5;241m.\u001b[39msolve(A, b)\n\u001b[0;32m      9\u001b[0m \u001b[38;5;28mprint\u001b[39m(x)\n",
      "File \u001b[1;32m~\\anaconda3\\Lib\\site-packages\\numpy\\linalg\\linalg.py:396\u001b[0m, in \u001b[0;36msolve\u001b[1;34m(a, b)\u001b[0m\n\u001b[0;32m    394\u001b[0m a, _ \u001b[38;5;241m=\u001b[39m _makearray(a)\n\u001b[0;32m    395\u001b[0m _assert_stacked_2d(a)\n\u001b[1;32m--> 396\u001b[0m _assert_stacked_square(a)\n\u001b[0;32m    397\u001b[0m b, wrap \u001b[38;5;241m=\u001b[39m _makearray(b)\n\u001b[0;32m    398\u001b[0m t, result_t \u001b[38;5;241m=\u001b[39m _commonType(a, b)\n",
      "File \u001b[1;32m~\\anaconda3\\Lib\\site-packages\\numpy\\linalg\\linalg.py:213\u001b[0m, in \u001b[0;36m_assert_stacked_square\u001b[1;34m(*arrays)\u001b[0m\n\u001b[0;32m    211\u001b[0m m, n \u001b[38;5;241m=\u001b[39m a\u001b[38;5;241m.\u001b[39mshape[\u001b[38;5;241m-\u001b[39m\u001b[38;5;241m2\u001b[39m:]\n\u001b[0;32m    212\u001b[0m \u001b[38;5;28;01mif\u001b[39;00m m \u001b[38;5;241m!=\u001b[39m n:\n\u001b[1;32m--> 213\u001b[0m     \u001b[38;5;28;01mraise\u001b[39;00m LinAlgError(\u001b[38;5;124m'\u001b[39m\u001b[38;5;124mLast 2 dimensions of the array must be square\u001b[39m\u001b[38;5;124m'\u001b[39m)\n",
      "\u001b[1;31mLinAlgError\u001b[0m: Last 2 dimensions of the array must be square"
     ]
    }
   ],
   "source": [
    "\n",
    "A = [\n",
    "    [2, 1, 1],\n",
    "    [2, 4, -1]\n",
    "]\n",
    "\n",
    "b = [1, -1]\n",
    "\n",
    "x = np.linalg.solve(A, b)\n",
    "print(x)\n"
   ]
  },
  {
   "cell_type": "markdown",
   "id": "f92b6953-2159-4655-b6bd-50c6648742c9",
   "metadata": {},
   "source": [
    "\n",
    "Soluciones infinitas\n",
    "\n",
    "## Ejercicio 2\n",
    "\n",
    "Utilice la eliminación gaussiana con sustitución hacia atrás y aritmética de redondeo de dos dígitos para resolver \n",
    "los siguientes sistemas lineales. No reordene las ecuaciones. (La solución exacta para cada sistema es $x_1 = -1$, $x_2 = 2$, $x_3 = 3$.)"
   ]
  },
  {
   "cell_type": "markdown",
   "id": "aa94cdeb-117f-40cb-8951-564cbb602246",
   "metadata": {},
   "source": [
    "\n",
    "### Literal a)\n",
    "\n",
    "$$-x_1 + 4x_2 + x_3 = 8$$\n",
    "\n",
    "$$\\frac{5}{3}x_1 + \\frac{2}{3}x_2 - \\frac{2}{3}x_3= 1$$\n",
    "\n",
    "$$2x_1 + x_2 + 4x_3 = 11$$\n"
   ]
  },
  {
   "cell_type": "code",
   "execution_count": 27,
   "id": "ce132c29-7069-4acd-acc2-401551a7f779",
   "metadata": {},
   "outputs": [
    {
     "name": "stdout",
     "output_type": "stream",
     "text": [
      "[-1.00651042  0.99739583  3.00390625]\n"
     ]
    }
   ],
   "source": [
    "\n",
    "A = [\n",
    "    [-1, 4, 1],\n",
    "    [round(5/3, 2), round(2/3, 2), round(2/3, 2)],\n",
    "    [2, 1, 4]\n",
    "]\n",
    "\n",
    "b = [8, 1, 11]\n",
    "\n",
    "x = np.linalg.solve(A, b)\n",
    "print(x)\n"
   ]
  },
  {
   "cell_type": "markdown",
   "id": "b2a8ae75-8473-453a-a92b-4dfcdd279524",
   "metadata": {},
   "source": [
    "\n",
    "### Literal b)\n",
    "\n",
    "$$4x_1 + 2x_2 - x_3 = -5$$\n",
    "\n",
    "$$\\frac{1}{9}x_1 + \\frac{1}{9}x_2 - \\frac{1}{3}x_3= -1$$\n",
    "\n",
    "$$x_1 + 4x_2 + 2x_3 = 9$$\n"
   ]
  },
  {
   "cell_type": "code",
   "execution_count": 30,
   "id": "d4dc092b-5881-4f07-89fe-a56fddb22ce1",
   "metadata": {},
   "outputs": [
    {
     "name": "stdout",
     "output_type": "stream",
     "text": [
      "[-4.52993348  4.97117517 -3.17738359]\n"
     ]
    }
   ],
   "source": [
    "\n",
    "A = [\n",
    "    [4, 2, -1],\n",
    "    [round(1/9, 2), round(1/9, 2), round(1/3, 2)],\n",
    "    [1, 4, 2]\n",
    "]\n",
    "\n",
    "b = [-5, -1, 9]\n",
    "\n",
    "x = np.linalg.solve(A, b)\n",
    "print(x)\n"
   ]
  },
  {
   "cell_type": "markdown",
   "id": "b2665231-0082-401f-9dca-f8203ca5503d",
   "metadata": {},
   "source": [
    "\n",
    "## Ejercicio 3\n",
    "\n",
    "Utilice el algoritmo de eliminación gaussiana para resolver, de ser posible, los siguientes sistemas de ecuaciones lineales y muestre los intercambios de fila necesarios.\n"
   ]
  },
  {
   "cell_type": "code",
   "execution_count": 33,
   "id": "f386c4c8-92b9-421a-8ca5-a36d1ff171c4",
   "metadata": {},
   "outputs": [],
   "source": [
    "def eliminacion_gaussiana(A: np.ndarray) -> np.ndarray:\n",
    "    A = np.array(A)\n",
    "    assert A.shape[0] == A.shape[1] - 1, \"La matriz A debe ser de tamaño n-by-(n+1).\"\n",
    "    n = A.shape[0]\n",
    "\n",
    "    for i in range(0, n - 1):  # loop por columna\n",
    "\n",
    "        # --- encontrar pivote\n",
    "        p = None  # default, first element\n",
    "        for pi in range(i, n):\n",
    "            if A[pi, i] == 0:\n",
    "                # must be nonzero\n",
    "                continue\n",
    "\n",
    "            if p is None:\n",
    "                # first nonzero element\n",
    "                p = pi\n",
    "                continue\n",
    "\n",
    "            if abs(A[pi, i]) < abs(A[p, i]):\n",
    "                p = pi\n",
    "\n",
    "        if p is None:\n",
    "            # no pivot found.\n",
    "            raise ValueError(\"No existe solución única.\")\n",
    "\n",
    "        if p != i:\n",
    "            # swap rows\n",
    "            print(f\"Intercambiando filas {i} y {p}\")\n",
    "            _aux = A[i, :].copy()\n",
    "            A[i, :] = A[p, :].copy()\n",
    "            A[p, :] = _aux\n",
    "\n",
    "        # --- Eliminación: loop por fila\n",
    "        for j in range(i + 1, n):\n",
    "            m = A[j, i] / A[i, i]\n",
    "            A[j, i:] = A[j, i:] - m * A[i, i:]\n",
    "\n",
    "\n",
    "    if A[n - 1, n - 1] == 0:\n",
    "        raise ValueError(\"No existe solución única.\")\n",
    "\n",
    "        print(f\"\\n{A}\")\n",
    "    # --- Sustitución hacia atrás\n",
    "    solucion = np.zeros(n)\n",
    "    solucion[n - 1] = A[n - 1, n] / A[n - 1, n - 1]\n",
    "\n",
    "    for i in range(n - 2, -1, -1):\n",
    "        suma = 0\n",
    "        for j in range(i + 1, n):\n",
    "            suma += A[i, j] * solucion[j]\n",
    "        solucion[i] = (A[i, n] - suma) / A[i, i]\n",
    "\n",
    "    return solucion"
   ]
  },
  {
   "cell_type": "markdown",
   "id": "7dbace98-9dd5-4384-a17e-42e5d4bb3d2f",
   "metadata": {},
   "source": [
    "\n",
    "### Literal a)\n",
    "\n",
    "$$x_1 - x_2 + 3x_3 = 2$$\n",
    "\n",
    "$$3x_1 - 3x_2 + 1x_3= - 1$$\n",
    "\n",
    "$$x_1 + x_2  = 3$$\n"
   ]
  },
  {
   "cell_type": "code",
   "execution_count": 95,
   "id": "2e162565-3b4a-453e-a108-c28a7c805c90",
   "metadata": {},
   "outputs": [
    {
     "name": "stdout",
     "output_type": "stream",
     "text": [
      "Intercambiando filas 1 y 2\n",
      "[1.1875 1.8125 0.875 ]\n"
     ]
    }
   ],
   "source": [
    "\n",
    "A = [\n",
    "    [1, -1, 3, 2],\n",
    "    [3, -3, 1, -1],\n",
    "    [1, 1, 0, 3]\n",
    "]\n",
    "\n",
    "x = eliminacion_gaussiana(A)\n",
    "print(x)\n"
   ]
  },
  {
   "cell_type": "markdown",
   "id": "9c6633c5-2682-4f59-9371-91b83e5f26c7",
   "metadata": {},
   "source": [
    "\n",
    "### Literal b)\n",
    "\n",
    "$$2x_1 - 1.5x_2 + 3x_3 = 1$$\n",
    "\n",
    "$$-x_1 + 2x_3 = 3$$\n",
    "\n",
    "$$4x_1 - 4.5x_2 + 5x_3 = 1$$\n"
   ]
  },
  {
   "cell_type": "code",
   "execution_count": 39,
   "id": "529b3266-d17c-43c2-aacc-859cffaaead7",
   "metadata": {},
   "outputs": [
    {
     "name": "stdout",
     "output_type": "stream",
     "text": [
      "Intercambiando filas 0 y 1\n",
      "[-1. -0.  1.]\n"
     ]
    }
   ],
   "source": [
    "\n",
    "A = [\n",
    "    [2, -1.5, 3, 1],\n",
    "    [-1, 0, 2, 3],\n",
    "    [4, -4.5, 5, 1]\n",
    "]\n",
    "\n",
    "x = eliminacion_gaussiana(A)\n",
    "print(x)\n"
   ]
  },
  {
   "cell_type": "markdown",
   "id": "698a2fe2-3d44-4586-91e3-e21a3500649b",
   "metadata": {},
   "source": [
    "\n",
    "### Literal c)\n",
    "\n",
    "$$2x_1 = 3$$\n",
    "\n",
    "$$x_1 + 1.5x_2= 4.5$$\n",
    "\n",
    "$$- 3x_2 - 0.5x_3 = -6.6$$\n",
    "\n",
    "$$2x_1 - 2x_2 + x_3 + x_4 = 0.8$$\n"
   ]
  },
  {
   "cell_type": "code",
   "execution_count": 42,
   "id": "304825c7-7a6a-4c3e-bb29-fc22489de704",
   "metadata": {},
   "outputs": [
    {
     "name": "stdout",
     "output_type": "stream",
     "text": [
      "Intercambiando filas 0 y 1\n",
      "[ 1.5  2.  -1.2  3. ]\n"
     ]
    }
   ],
   "source": [
    "\n",
    "A = [\n",
    "    [2, 0, 0, 0, 3],\n",
    "    [1, 1.5, 0, 0, 4.5],\n",
    "    [0, -3, 0.5, 0, -6.6],\n",
    "    [2, -2, 1, 1, 0.8]\n",
    "]\n",
    "\n",
    "x = eliminacion_gaussiana(A)\n",
    "print(x)\n"
   ]
  },
  {
   "cell_type": "markdown",
   "id": "402e07bf-202e-4b8f-8a73-0cbba7f65479",
   "metadata": {},
   "source": [
    "\n",
    "### Literal d)\n",
    "\n",
    "$$x_1 + x_2 + x_4 = 2$$\n",
    "\n",
    "$$2x_1 + x_2 - x_3 + x_4 = 1$$\n",
    "\n",
    "$$4x_1 - x_2 - 2x_3 + 2x_4 = 0$$\n",
    "\n",
    "$$3x_1 - x_2 - x_3 + 2x_4 = -3$$\n"
   ]
  },
  {
   "cell_type": "code",
   "execution_count": 128,
   "id": "188e36dc-d644-4569-aa39-e5d638832c07",
   "metadata": {},
   "outputs": [
    {
     "ename": "ValueError",
     "evalue": "No existe solución única.",
     "output_type": "error",
     "traceback": [
      "\u001b[1;31m---------------------------------------------------------------------------\u001b[0m",
      "\u001b[1;31mValueError\u001b[0m                                Traceback (most recent call last)",
      "Cell \u001b[1;32mIn[128], line 8\u001b[0m\n\u001b[0;32m      1\u001b[0m A \u001b[38;5;241m=\u001b[39m [\n\u001b[0;32m      2\u001b[0m     [\u001b[38;5;241m1\u001b[39m, \u001b[38;5;241m1\u001b[39m, \u001b[38;5;241m0\u001b[39m, \u001b[38;5;241m1\u001b[39m, \u001b[38;5;241m2\u001b[39m],\n\u001b[0;32m      3\u001b[0m     [\u001b[38;5;241m2\u001b[39m, \u001b[38;5;241m1\u001b[39m, \u001b[38;5;241m-\u001b[39m\u001b[38;5;241m1\u001b[39m, \u001b[38;5;241m1\u001b[39m, \u001b[38;5;241m1\u001b[39m],\n\u001b[0;32m      4\u001b[0m     [\u001b[38;5;241m4\u001b[39m, \u001b[38;5;241m-\u001b[39m\u001b[38;5;241m1\u001b[39m, \u001b[38;5;241m-\u001b[39m\u001b[38;5;241m2\u001b[39m, \u001b[38;5;241m2\u001b[39m, \u001b[38;5;241m0\u001b[39m],\n\u001b[0;32m      5\u001b[0m     [\u001b[38;5;241m3\u001b[39m, \u001b[38;5;241m-\u001b[39m\u001b[38;5;241m1\u001b[39m, \u001b[38;5;241m-\u001b[39m\u001b[38;5;241m1\u001b[39m, \u001b[38;5;241m2\u001b[39m, \u001b[38;5;241m-\u001b[39m\u001b[38;5;241m3\u001b[39m]\n\u001b[0;32m      6\u001b[0m ]\n\u001b[1;32m----> 8\u001b[0m x \u001b[38;5;241m=\u001b[39m eliminacion_gaussiana(A)\n\u001b[0;32m      9\u001b[0m \u001b[38;5;28mprint\u001b[39m(x)\n",
      "Cell \u001b[1;32mIn[112], line 41\u001b[0m, in \u001b[0;36meliminacion_gaussiana\u001b[1;34m(A)\u001b[0m\n\u001b[0;32m     37\u001b[0m         A[j, i:] \u001b[38;5;241m=\u001b[39m A[j, i:] \u001b[38;5;241m-\u001b[39m m \u001b[38;5;241m*\u001b[39m A[i, i:]\n\u001b[0;32m     40\u001b[0m \u001b[38;5;28;01mif\u001b[39;00m A[n \u001b[38;5;241m-\u001b[39m \u001b[38;5;241m1\u001b[39m, n \u001b[38;5;241m-\u001b[39m \u001b[38;5;241m1\u001b[39m] \u001b[38;5;241m==\u001b[39m \u001b[38;5;241m0\u001b[39m:\n\u001b[1;32m---> 41\u001b[0m     \u001b[38;5;28;01mraise\u001b[39;00m \u001b[38;5;167;01mValueError\u001b[39;00m(\u001b[38;5;124m\"\u001b[39m\u001b[38;5;124mNo existe solución única.\u001b[39m\u001b[38;5;124m\"\u001b[39m)\n\u001b[0;32m     43\u001b[0m     \u001b[38;5;28mprint\u001b[39m(\u001b[38;5;124mf\u001b[39m\u001b[38;5;124m\"\u001b[39m\u001b[38;5;130;01m\\n\u001b[39;00m\u001b[38;5;132;01m{\u001b[39;00mA\u001b[38;5;132;01m}\u001b[39;00m\u001b[38;5;124m\"\u001b[39m)\n\u001b[0;32m     44\u001b[0m \u001b[38;5;66;03m# --- Sustitución hacia atrás\u001b[39;00m\n",
      "\u001b[1;31mValueError\u001b[0m: No existe solución única."
     ]
    }
   ],
   "source": [
    "\n",
    "A = [\n",
    "    [1, 1, 0, 1, 2],\n",
    "    [2, 1, -1, 1, 1],\n",
    "    [4, -1, -2, 2, 0],\n",
    "    [3, -1, -1, 2, -3]\n",
    "]\n",
    "\n",
    "x = eliminacion_gaussiana(A)\n",
    "print(x)\n"
   ]
  },
  {
   "cell_type": "markdown",
   "id": "ff985731-3bbe-46ab-b74d-152430da7195",
   "metadata": {},
   "source": [
    "\n",
    "## Ejercicio 4\n",
    "\n",
    "Use el algoritmo de eliminación gaussiana y la aritmética computacional de precisión de 32 bits para resolver los siguientes sistemas lineales.\n",
    "\n",
    "Para esto, utilizaremos la siguiente función:\n"
   ]
  },
  {
   "cell_type": "code",
   "execution_count": 46,
   "id": "062ffd78-0228-420e-8802-859dc2fb5a66",
   "metadata": {},
   "outputs": [],
   "source": [
    "def eliminacion_gaussiana(A: np.ndarray) -> np.ndarray:\n",
    "    A = np.array(A)\n",
    "    \n",
    "    assert A.shape[0] == A.shape[1] - 1, \"La matriz A debe ser de tamaño n-by-(n+1).\"\n",
    "    n = A.shape[0]\n",
    "\n",
    "    for i in range(0, n - 1):  # loop por columna\n",
    "\n",
    "        # --- encontrar pivote\n",
    "        p = None  # default, first element\n",
    "        for pi in range(i, n):\n",
    "            if A[pi, i] == 0:\n",
    "                # must be nonzero\n",
    "                continue\n",
    "\n",
    "            if p is None:\n",
    "                # first nonzero element\n",
    "                p = pi\n",
    "                continue\n",
    "\n",
    "            if abs(A[pi, i]) < abs(A[p, i]):\n",
    "                p = pi\n",
    "\n",
    "        if p is None:\n",
    "            # no pivot found.\n",
    "            raise ValueError(\"No existe solución única.\")\n",
    "\n",
    "        if p != i:\n",
    "            # swap rows\n",
    "            print(f\"Intercambiando filas {i} y {p}\")\n",
    "            _aux = A[i, :].copy()\n",
    "            A[i, :] = A[p, :].copy()\n",
    "            A[p, :] = _aux\n",
    "\n",
    "        # --- Eliminación: loop por fila\n",
    "        for j in range(i + 1, n):\n",
    "            m = A[j, i] / A[i, i]\n",
    "            A[j, i:] = A[j, i:] - m * A[i, i:]\n",
    "\n",
    "    if A[n - 1, n - 1] == 0:\n",
    "        raise ValueError(\"No existe solución única.\")\n",
    "\n",
    "    # --- Sustitución hacia atrás\n",
    "    solucion = np.zeros(n, dtype=np.float32)\n",
    "    solucion[n - 1] = A[n - 1, n] / A[n - 1, n - 1]\n",
    "\n",
    "    for i in range(n - 2, -1, -1):\n",
    "        suma = 0\n",
    "        for j in range(i + 1, n):\n",
    "            suma += A[i, j] * solucion[j]\n",
    "        solucion[i] = (A[i, n] - suma) / A[i, i]\n",
    "\n",
    "    return solucion\n"
   ]
  },
  {
   "cell_type": "markdown",
   "id": "f96b89cb-dd81-408c-ae17-3862b023b902",
   "metadata": {},
   "source": [
    "\n",
    "### Literal a)\n",
    "\n",
    "$$\\frac{1}{4}x_1 + \\frac{1}{5}x_2 + \\frac{1}{6}x_3 = 9$$\n",
    "\n",
    "$$\\frac{1}{3}x_1 + \\frac{1}{4}x_2 + \\frac{1}{5}x_3= 8$$\n",
    "\n",
    "$$\\frac{1}{2}x_1 + x_2 + 2x_3 = 8$$\n"
   ]
  },
  {
   "cell_type": "code",
   "execution_count": 49,
   "id": "101e6a44-af52-4cc4-a6df-758e4290c921",
   "metadata": {},
   "outputs": [
    {
     "name": "stdout",
     "output_type": "stream",
     "text": [
      "[-227.07666  476.92264 -177.69217]\n"
     ]
    }
   ],
   "source": [
    "\n",
    "A = np.array([[1/4, 1/5, 1/6, 9],\n",
    "              [1/3, 1/4, 1/5, 8],\n",
    "              [1/2, 1, 2, 8]], dtype=np.float32)\n",
    "\n",
    "solucion = eliminacion_gaussiana(A)\n",
    "print(solucion)\n"
   ]
  },
  {
   "cell_type": "markdown",
   "id": "fc84f331-54ca-4144-95df-c6684fc841de",
   "metadata": {},
   "source": [
    "\n",
    "### Literal b)\n",
    "\n",
    "$$3.333x_1 + 15920x_2 - 10.333x_3 = 15913$$\n",
    "\n",
    "$$2.222x_1 + 16.71x_2 + 9.612x_3 = 28.544$$\n",
    "\n",
    "$$1.5611x_1 + 5.1791x_2 + 1.6852x_3 = 8.4254$$\n"
   ]
  },
  {
   "cell_type": "code",
   "execution_count": 53,
   "id": "4a6f725d-d01f-4c9e-bff4-3960b23b884d",
   "metadata": {},
   "outputs": [
    {
     "name": "stdout",
     "output_type": "stream",
     "text": [
      "Intercambiando filas 0 y 2\n",
      "[1.0024954 0.9987004 1.0016824]\n"
     ]
    }
   ],
   "source": [
    "\n",
    "A = np.array([[3.333, 15920, 10.333, 15913],\n",
    "              [2.222, 16.71, 9.612, 28.544],\n",
    "              [1.5611, 5.1791, 1.6852, 8.4254]], dtype=np.float32)\n",
    "\n",
    "solucion = eliminacion_gaussiana(A)\n",
    "print(solucion)\n"
   ]
  },
  {
   "cell_type": "markdown",
   "id": "a93da905-9cb6-457e-97c2-32cb90f278f8",
   "metadata": {},
   "source": [
    "\n",
    "### Literal c)\n",
    "\n",
    "$$x_1 + \\frac{1}{2}x_2 + \\frac{1}{3}x_3 + \\frac{1}{4}x_4 = \\frac{1}{6}$$\n",
    "\n",
    "$$\\frac{1}{2}x_1 + \\frac{1}{3}x_2 + \\frac{1}{4}x_3 + \\frac{1}{5}x_4 = \\frac{1}{7}$$\n",
    "\n",
    "$$\\frac{1}{3}x_1 + \\frac{1}{4}x_2 + \\frac{1}{5}x_3 + \\frac{1}{6}x_4 = \\frac{1}{8}$$\n",
    "\n",
    "$$\\frac{1}{4}x_1 + \\frac{1}{5}x_2 + \\frac{1}{6}x_3 + \\frac{1}{7}x_4 = \\frac{1}{9}$$\n"
   ]
  },
  {
   "cell_type": "code",
   "execution_count": 56,
   "id": "365003e2-4356-411e-b25e-62055095917e",
   "metadata": {},
   "outputs": [
    {
     "name": "stdout",
     "output_type": "stream",
     "text": [
      "Intercambiando filas 0 y 3\n",
      "Intercambiando filas 1 y 2\n",
      "[-0.03174073  0.5951853  -2.3808312   2.7777011 ]\n"
     ]
    }
   ],
   "source": [
    "\n",
    "A = np.array([[1, 1/2, 1/3, 1/4, 1/6],\n",
    "              [1/2, 1/3, 1/4, 1/5, 1/7],\n",
    "              [1/3, 1/4, 1/5, 1/6, 1/8],\n",
    "              [1/4, 1/5, 1/6, 1/7, 1/9]], dtype=np.float32)\n",
    "\n",
    "solucion = eliminacion_gaussiana(A)\n",
    "print(solucion)\n"
   ]
  },
  {
   "cell_type": "markdown",
   "id": "2635f7d8-08e8-4805-9945-244368d62ce9",
   "metadata": {},
   "source": [
    "\n",
    "### Literal d)\n",
    "\n",
    "$$2x_1 + x_2 - x_3 + x_4 - 3x_5 = 7$$\n",
    "\n",
    "$$x_1 + 2x_3 - x_4 + x_5 = 2$$\n",
    "\n",
    "$$- 2x_2 - x_3 + x_4 - x_5 = -5$$\n",
    "\n",
    "$$3x_1 + x_2 - 4x_3 + 5x_5 = 6$$\n",
    "\n",
    "$$x_1 - x_2 - x_3 - x_4 + x_5= -3$$\n"
   ]
  },
  {
   "cell_type": "code",
   "execution_count": 59,
   "id": "e390dc71-4472-46a2-b604-588875c41e62",
   "metadata": {},
   "outputs": [
    {
     "name": "stdout",
     "output_type": "stream",
     "text": [
      "Intercambiando filas 0 y 1\n",
      "Intercambiando filas 2 y 3\n",
      "Intercambiando filas 3 y 4\n",
      "[1.883041   2.8070176  0.73099416 1.4385966  0.09356727]\n"
     ]
    }
   ],
   "source": [
    "\n",
    "A = np.array([[2, 1, -1, 1, -3, 7],\n",
    "              [1, 0, 2, -1, 1, 2],\n",
    "              [0, -2, -1, 1, -1, -5],\n",
    "              [3, 1, -4, 0, 5, 6],\n",
    "              [1, -1, -1, -1, 1, -3]], dtype=np.float32)\n",
    "\n",
    "solucion = eliminacion_gaussiana(A)\n",
    "print(solucion)\n"
   ]
  },
  {
   "cell_type": "markdown",
   "id": "ab68ee74-0d7c-4606-aa93-0afe1d55bae9",
   "metadata": {},
   "source": [
    "\n",
    "## Ejercicio 5\n",
    "\n",
    "Dado el sistema lineal:\n",
    "\n",
    "$$x_1 - x_2 + \\alpha x_3 = -2$$\n",
    "\n",
    "$$- x_1 + 2x_2 - \\alpha x_3 = 3$$\n",
    "\n",
    "$$\\alpha x_1 + x_2 + x_3 = 2$$\n",
    "\n",
    "### Literal a)\n",
    "\n",
    "Encuentre el valor(es) de $\\alpha$ para los que el sistema no tiene soluciones.\n",
    "\n",
    "Se puede obtener $\\alpha$ si calculamos el determinante de esta matriz y la igualamos a cero, entonces:\n",
    "\n",
    "$$det(A) = (2 + \\alpha) + (-1 + \\alpha) + \\alpha (- 1 - 2 \\alpha) = 0$$\n",
    "\n",
    "$$det(A) = 2 \\alpha^{2} - \\alpha + 1 = 0$$\n",
    "\n",
    "$$\\alpha = 1      ;     \\alpha = - \\frac{1}{2}$$\n",
    "\n",
    "Si $\\alpha$ tiene alguno de los valores del conjunto: $\\set{-\\frac{1}{2}, 1}$, entonces el sistema no tiene solución.\n",
    "\n",
    "### Literal b)\n",
    "\n",
    "Encuentre el valor(es) de 𝛼 para los que el sistema tiene un número infinito de soluciones.\n",
    "\n",
    "Para encontrar el valor de $\\alpha$ necesitamos reducir la matriz ampliada de este sistema de ecuaciones de manera que encontremos la última fila dependiendo de este escalar. Si $\\alpha$, para este momento es igual a cero, entonces existen soluciones infinitas.\n",
    "\n",
    "$$\\begin{pmatrix} 1 & -1 & \\alpha & -2 \\\\ 0 & 1 & 0 & 1 \\\\ 0 & 0 & (1 - \\alpha^{2}) & .... \\end{pmatrix}$$\n",
    "\n",
    "Esta es la matriz reducida, y el valor $(1 - \\alpha^{2})$ es lo que nos interesa.\n",
    "\n",
    "$$1 - \\alpha^{2} = 0$$\n",
    "\n",
    "Si $\\alpha$ tiene alguno de los valores del conjunto $\\set{-1, 1}$, entonces el sistema tiene soluciones infinitas.\n",
    "\n",
    "### Literal c)\n",
    "\n",
    "Suponga que existe una única solución para una a determinada, encuentre la solución.\n",
    "\n",
    "Asignemos de manera: $\\alpha = 2$. Con esto, calculemos las soluciones mediante numpy.\n"
   ]
  },
  {
   "cell_type": "code",
   "execution_count": 62,
   "id": "de45e577-763c-4e9a-ba37-28d95874fc54",
   "metadata": {},
   "outputs": [
    {
     "name": "stdout",
     "output_type": "stream",
     "text": [
      "[ 1.  1. -1.]\n"
     ]
    }
   ],
   "source": [
    "\n",
    "A = [\n",
    "    [1, -1, 2],\n",
    "    [-1, 2, -2],\n",
    "    [2, 1, 1]\n",
    "]\n",
    "\n",
    "b = [-2, 3, 2]\n",
    "\n",
    "x = np.linalg.solve(A, b)\n",
    "print(x)\n"
   ]
  },
  {
   "cell_type": "markdown",
   "id": "8bcad846-1d4b-4b10-b6b5-5f21eeb92e5a",
   "metadata": {},
   "source": [
    "\n",
    "Comprobamos que el sistema tiene solución.\n",
    "\n",
    "## Ejercicio 6\n",
    "\n",
    "Suponga que en un sistema biológico existen $n$ especies de animales y $m$ fuentes de alimento. Si $x_j$ representa la \n",
    "población de las j-ésimas especies, para cada $j = 1, ... , n$,;$b_i$; representa el suministro diario disponible del i-ésimo\n",
    "alimento $a_{ij}$𝑗 representa la cantidad del i-ésimo alimento\n",
    "\n",
    "### Literal a)\n",
    "\n",
    "Si:\n",
    "\n",
    "$$\\begin{pmatrix} 1 & 2 & 0 & 3 \\\\ 1 & 0 & 2 & 2 \\\\ 0 & 0 & 1 & 1 \\end{pmatrix}$$\n",
    "\n",
    "$x = (x_j) = (1000, 500, 350, 400)$ y $b = (b_i) = (3500, 2700, 900)$. ¿Existe suficiente alimento para satisfacer el promedio consumo diario?\n",
    ". "
   ]
  },
  {
   "cell_type": "code",
   "execution_count": 65,
   "id": "8c4a92a6-7443-4554-929a-f4bf9cf4cee1",
   "metadata": {},
   "outputs": [
    {
     "name": "stdout",
     "output_type": "stream",
     "text": [
      "[3200 2500  750]\n"
     ]
    }
   ],
   "source": [
    "\n",
    "A = [\n",
    "    [1, 2, 0, 3],\n",
    "    [1, 0, 2, 2],\n",
    "    [0, 0, 1, 1]\n",
    "]\n",
    "\n",
    "x = [1000, 500, 350, 400]\n",
    "\n",
    "x = np.matmul(A, x)\n",
    "print(x)\n"
   ]
  },
  {
   "cell_type": "markdown",
   "id": "5d5bb034-82d7-4d7b-8a7c-580549da2c2f",
   "metadata": {},
   "source": [
    "\n",
    "Al parecer, el alimento fue suficiente para satisfacer a las poblaciones de especies que conviven debido al suministro por donde se parte ($[3500, 2700, 900]$).\n",
    "\n",
    "### Literal b)\n",
    "\n",
    "Cuál es el número máximo de animales de cada especie que se podría agregar de forma individual al sistema con el suministro de alimento que cumpla con el consumo?\n"
   ]
  },
  {
   "cell_type": "code",
   "execution_count": 68,
   "id": "b2b13587-30f2-48c2-89ea-29f09b4dfb14",
   "metadata": {},
   "outputs": [
    {
     "ename": "LinAlgError",
     "evalue": "Last 2 dimensions of the array must be square",
     "output_type": "error",
     "traceback": [
      "\u001b[1;31m---------------------------------------------------------------------------\u001b[0m",
      "\u001b[1;31mLinAlgError\u001b[0m                               Traceback (most recent call last)",
      "Cell \u001b[1;32mIn[68], line 9\u001b[0m\n\u001b[0;32m      1\u001b[0m A \u001b[38;5;241m=\u001b[39m [\n\u001b[0;32m      2\u001b[0m     [\u001b[38;5;241m1\u001b[39m, \u001b[38;5;241m2\u001b[39m, \u001b[38;5;241m0\u001b[39m, \u001b[38;5;241m3\u001b[39m],\n\u001b[0;32m      3\u001b[0m     [\u001b[38;5;241m1\u001b[39m, \u001b[38;5;241m0\u001b[39m, \u001b[38;5;241m2\u001b[39m, \u001b[38;5;241m2\u001b[39m],\n\u001b[0;32m      4\u001b[0m     [\u001b[38;5;241m0\u001b[39m, \u001b[38;5;241m0\u001b[39m, \u001b[38;5;241m1\u001b[39m, \u001b[38;5;241m1\u001b[39m]\n\u001b[0;32m      5\u001b[0m ]\n\u001b[0;32m      7\u001b[0m b \u001b[38;5;241m=\u001b[39m [\u001b[38;5;241m3500\u001b[39m, \u001b[38;5;241m2700\u001b[39m, \u001b[38;5;241m900\u001b[39m]\n\u001b[1;32m----> 9\u001b[0m x \u001b[38;5;241m=\u001b[39m np\u001b[38;5;241m.\u001b[39mlinalg\u001b[38;5;241m.\u001b[39msolve(A, b)\n\u001b[0;32m     10\u001b[0m \u001b[38;5;28mprint\u001b[39m(x)\n",
      "File \u001b[1;32m~\\anaconda3\\Lib\\site-packages\\numpy\\linalg\\linalg.py:396\u001b[0m, in \u001b[0;36msolve\u001b[1;34m(a, b)\u001b[0m\n\u001b[0;32m    394\u001b[0m a, _ \u001b[38;5;241m=\u001b[39m _makearray(a)\n\u001b[0;32m    395\u001b[0m _assert_stacked_2d(a)\n\u001b[1;32m--> 396\u001b[0m _assert_stacked_square(a)\n\u001b[0;32m    397\u001b[0m b, wrap \u001b[38;5;241m=\u001b[39m _makearray(b)\n\u001b[0;32m    398\u001b[0m t, result_t \u001b[38;5;241m=\u001b[39m _commonType(a, b)\n",
      "File \u001b[1;32m~\\anaconda3\\Lib\\site-packages\\numpy\\linalg\\linalg.py:213\u001b[0m, in \u001b[0;36m_assert_stacked_square\u001b[1;34m(*arrays)\u001b[0m\n\u001b[0;32m    211\u001b[0m m, n \u001b[38;5;241m=\u001b[39m a\u001b[38;5;241m.\u001b[39mshape[\u001b[38;5;241m-\u001b[39m\u001b[38;5;241m2\u001b[39m:]\n\u001b[0;32m    212\u001b[0m \u001b[38;5;28;01mif\u001b[39;00m m \u001b[38;5;241m!=\u001b[39m n:\n\u001b[1;32m--> 213\u001b[0m     \u001b[38;5;28;01mraise\u001b[39;00m LinAlgError(\u001b[38;5;124m'\u001b[39m\u001b[38;5;124mLast 2 dimensions of the array must be square\u001b[39m\u001b[38;5;124m'\u001b[39m)\n",
      "\u001b[1;31mLinAlgError\u001b[0m: Last 2 dimensions of the array must be square"
     ]
    }
   ],
   "source": [
    "\n",
    "A = [\n",
    "    [1, 2, 0, 3],\n",
    "    [1, 0, 2, 2],\n",
    "    [0, 0, 1, 1]\n",
    "]\n",
    "\n",
    "b = [3500, 2700, 900]\n",
    "\n",
    "x = np.linalg.solve(A, b)\n",
    "print(x)\n"
   ]
  },
  {
   "cell_type": "markdown",
   "id": "9f8f24b1-9198-4fde-a000-c979ccfaa90d",
   "metadata": {},
   "source": [
    "\n",
    "Creí que era de esta manera, pero no. Lo hice de manera analítica, que como resultado, la especie 1 puede llegar hasta 1800 integrantes. La especie 2, 3 y 4 dependen de ellas mismas. No se puede determinar de forma exacta ya que hay muchas distribuciones posibles\n",
    "\n",
    "### Literal c)\n",
    "\n",
    "Si la especie 1 se extingue, ¿qué cantidad de incremento individual de las especies restantes se podría soportar?\n",
    "\n",
    "Esto significa que..."
   ]
  },
  {
   "cell_type": "code",
   "execution_count": 71,
   "id": "833c6f7e-2369-4f2c-8cf1-7c96c849c5ac",
   "metadata": {},
   "outputs": [
    {
     "ename": "LinAlgError",
     "evalue": "Singular matrix",
     "output_type": "error",
     "traceback": [
      "\u001b[1;31m---------------------------------------------------------------------------\u001b[0m",
      "\u001b[1;31mLinAlgError\u001b[0m                               Traceback (most recent call last)",
      "Cell \u001b[1;32mIn[71], line 9\u001b[0m\n\u001b[0;32m      1\u001b[0m A \u001b[38;5;241m=\u001b[39m [\n\u001b[0;32m      2\u001b[0m     [\u001b[38;5;241m2\u001b[39m, \u001b[38;5;241m0\u001b[39m, \u001b[38;5;241m3\u001b[39m],\n\u001b[0;32m      3\u001b[0m     [\u001b[38;5;241m0\u001b[39m, \u001b[38;5;241m2\u001b[39m, \u001b[38;5;241m2\u001b[39m],\n\u001b[0;32m      4\u001b[0m     [\u001b[38;5;241m0\u001b[39m, \u001b[38;5;241m1\u001b[39m, \u001b[38;5;241m1\u001b[39m]\n\u001b[0;32m      5\u001b[0m ]\n\u001b[0;32m      7\u001b[0m b \u001b[38;5;241m=\u001b[39m [\u001b[38;5;241m3500\u001b[39m, \u001b[38;5;241m2700\u001b[39m, \u001b[38;5;241m900\u001b[39m]\n\u001b[1;32m----> 9\u001b[0m x \u001b[38;5;241m=\u001b[39m np\u001b[38;5;241m.\u001b[39mlinalg\u001b[38;5;241m.\u001b[39msolve(A, b)\n\u001b[0;32m     10\u001b[0m \u001b[38;5;28mprint\u001b[39m(x)\n",
      "File \u001b[1;32m~\\anaconda3\\Lib\\site-packages\\numpy\\linalg\\linalg.py:409\u001b[0m, in \u001b[0;36msolve\u001b[1;34m(a, b)\u001b[0m\n\u001b[0;32m    407\u001b[0m signature \u001b[38;5;241m=\u001b[39m \u001b[38;5;124m'\u001b[39m\u001b[38;5;124mDD->D\u001b[39m\u001b[38;5;124m'\u001b[39m \u001b[38;5;28;01mif\u001b[39;00m isComplexType(t) \u001b[38;5;28;01melse\u001b[39;00m \u001b[38;5;124m'\u001b[39m\u001b[38;5;124mdd->d\u001b[39m\u001b[38;5;124m'\u001b[39m\n\u001b[0;32m    408\u001b[0m extobj \u001b[38;5;241m=\u001b[39m get_linalg_error_extobj(_raise_linalgerror_singular)\n\u001b[1;32m--> 409\u001b[0m r \u001b[38;5;241m=\u001b[39m gufunc(a, b, signature\u001b[38;5;241m=\u001b[39msignature, extobj\u001b[38;5;241m=\u001b[39mextobj)\n\u001b[0;32m    411\u001b[0m \u001b[38;5;28;01mreturn\u001b[39;00m wrap(r\u001b[38;5;241m.\u001b[39mastype(result_t, copy\u001b[38;5;241m=\u001b[39m\u001b[38;5;28;01mFalse\u001b[39;00m))\n",
      "File \u001b[1;32m~\\anaconda3\\Lib\\site-packages\\numpy\\linalg\\linalg.py:112\u001b[0m, in \u001b[0;36m_raise_linalgerror_singular\u001b[1;34m(err, flag)\u001b[0m\n\u001b[0;32m    111\u001b[0m \u001b[38;5;28;01mdef\u001b[39;00m \u001b[38;5;21m_raise_linalgerror_singular\u001b[39m(err, flag):\n\u001b[1;32m--> 112\u001b[0m     \u001b[38;5;28;01mraise\u001b[39;00m LinAlgError(\u001b[38;5;124m\"\u001b[39m\u001b[38;5;124mSingular matrix\u001b[39m\u001b[38;5;124m\"\u001b[39m)\n",
      "\u001b[1;31mLinAlgError\u001b[0m: Singular matrix"
     ]
    }
   ],
   "source": [
    "\n",
    "A = [\n",
    "    [2, 0, 3],\n",
    "    [0, 2, 2],\n",
    "    [0, 1, 1]\n",
    "]\n",
    "\n",
    "b = [3500, 2700, 900]\n",
    "\n",
    "x = np.linalg.solve(A, b)\n",
    "print(x)\n"
   ]
  },
  {
   "cell_type": "markdown",
   "id": "7e55ffa3-209d-489d-81bb-a4c4bf9b7a6e",
   "metadata": {},
   "source": [
    "\n",
    "Para este caso no parece existir una distribución exacta.\n",
    "\n",
    "### Literal d)\n",
    "\n",
    "Si la especie 2 se extingue, ¿qué cantidad de incremento individual de las especies restantes se podría soportar?\n"
   ]
  },
  {
   "cell_type": "code",
   "execution_count": 74,
   "id": "bd46db06-a241-4423-b50c-5187c39281e1",
   "metadata": {},
   "outputs": [
    {
     "name": "stdout",
     "output_type": "stream",
     "text": [
      "[900.          33.33333333 866.66666667]\n"
     ]
    }
   ],
   "source": [
    "\n",
    "A = [\n",
    "    [1, 0, 3],\n",
    "    [1, 2, 2],\n",
    "    [0, 1, 1]\n",
    "]\n",
    "\n",
    "b = [3500, 2700, 900]\n",
    "\n",
    "x = np.linalg.solve(A, b)\n",
    "print(x)\n"
   ]
  },
  {
   "cell_type": "markdown",
   "id": "7fadd2b7-c655-497d-9861-50d72ea29542",
   "metadata": {},
   "source": [
    "\n",
    "En este caso se determinó la población que pueden tener cada una de las especies (Especie 1: 900, especie 2: 33, especie 3: 866)\n"
   ]
  }
 ],
 "metadata": {
  "kernelspec": {
   "display_name": "Python 3",
   "language": "python",
   "name": "python3"
  },
  "language_info": {
   "codemirror_mode": {
    "name": "ipython",
    "version": 3
   },
   "file_extension": ".py",
   "mimetype": "text/x-python",
   "name": "python",
   "nbconvert_exporter": "python",
   "pygments_lexer": "ipython3",
   "version": "3.11.3"
  }
 },
 "nbformat": 4,
 "nbformat_minor": 5
}
